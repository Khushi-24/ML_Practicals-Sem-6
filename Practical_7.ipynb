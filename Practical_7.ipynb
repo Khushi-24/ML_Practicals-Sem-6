{
 "cells": [
  {
   "cell_type": "code",
   "execution_count": 1,
   "id": "declared-modern",
   "metadata": {},
   "outputs": [],
   "source": [
    "%matplotlib inline"
   ]
  },
  {
   "cell_type": "markdown",
   "id": "welsh-generator",
   "metadata": {},
   "source": [
    "# import the libraries"
   ]
  },
  {
   "cell_type": "code",
   "execution_count": 2,
   "id": "radio-welcome",
   "metadata": {},
   "outputs": [],
   "source": [
    "import numpy as np\n",
    "import matplotlib.pyplot as plt\n",
    "import pandas as pd\n",
    "from sklearn import svm , datasets\n",
    "from sklearn.linear_model import LogisticRegression\n",
    "from sklearn.model_selection import train_test_split\n",
    "from sklearn.metrics import confusion_matrix , classification_report, ConfusionMatrixDisplay , plot_roc_curve ,roc_curve , roc_auc_score"
   ]
  },
  {
   "cell_type": "markdown",
   "id": "stopped-regression",
   "metadata": {},
   "source": [
    "# load the dataset"
   ]
  },
  {
   "cell_type": "code",
   "execution_count": 6,
   "id": "olympic-kentucky",
   "metadata": {},
   "outputs": [
    {
     "data": {
      "text/plain": [
       "['DESCR',\n",
       " 'data',\n",
       " 'feature_names',\n",
       " 'filename',\n",
       " 'frame',\n",
       " 'target',\n",
       " 'target_names']"
      ]
     },
     "execution_count": 6,
     "metadata": {},
     "output_type": "execute_result"
    }
   ],
   "source": [
    "from sklearn.datasets import load_iris\n",
    "myiris = load_iris()\n",
    "dir(myiris)"
   ]
  },
  {
   "cell_type": "markdown",
   "id": "rolled-porter",
   "metadata": {},
   "source": [
    "# independent and dependent variables"
   ]
  },
  {
   "cell_type": "code",
   "execution_count": 8,
   "id": "regular-helena",
   "metadata": {},
   "outputs": [
    {
     "name": "stdout",
     "output_type": "stream",
     "text": [
      "['setosa' 'versicolor' 'virginica']\n"
     ]
    }
   ],
   "source": [
    "x = iris.data\n",
    "y = iris.target\n",
    "class_names = iris.target_names\n",
    "print(class_names)"
   ]
  },
  {
   "cell_type": "markdown",
   "id": "worst-barbados",
   "metadata": {},
   "source": [
    "# split the dataset into testing and training set"
   ]
  },
  {
   "cell_type": "code",
   "execution_count": 9,
   "id": "revised-disposition",
   "metadata": {},
   "outputs": [],
   "source": [
    "x_train , x_test , y_train , y_test = train_test_split(x,y, random_state = 0)"
   ]
  },
  {
   "cell_type": "markdown",
   "id": "varying-article",
   "metadata": {},
   "source": [
    "# classifying using svm and confusion matrix"
   ]
  },
  {
   "cell_type": "code",
   "execution_count": 12,
   "id": "dependent-classic",
   "metadata": {},
   "outputs": [
    {
     "name": "stdout",
     "output_type": "stream",
     "text": [
      "[[13  0  0]\n",
      " [ 0 15  1]\n",
      " [ 0  0  9]]\n"
     ]
    },
    {
     "data": {
      "image/png": "[encoded data removed]",
      "text/plain": [
       "<Figure size 432x288 with 2 Axes>"
      ]
     },
     "metadata": {
      "needs_background": "light"
     },
     "output_type": "display_data"
    }
   ],
   "source": [
    "classifier = svm.SVC(kernel = 'linear' , C = 0.1).fit(x_train , y_train)\n",
    "classifier_pred = classifier.predict(x_test)\n",
    "cm = confusion_matrix(y_test,classifier_pred)\n",
    "print(cm)\n",
    "cm_display = ConfusionMatrixDisplay(cm).plot()"
   ]
  },
  {
   "cell_type": "markdown",
   "id": "unlimited-action",
   "metadata": {},
   "source": [
    "# roc curve"
   ]
  },
  {
   "cell_type": "code",
   "execution_count": 16,
   "id": "existing-intervention",
   "metadata": {},
   "outputs": [
    {
     "name": "stdout",
     "output_type": "stream",
     "text": [
      "[0.  0.4 1.  1. ] [0. 0. 0. 1.] [3 2 1 0]\n"
     ]
    },
    {
     "data": {
      "text/plain": [
       "[<matplotlib.lines.Line2D at 0x332d612250>]"
      ]
     },
     "execution_count": 16,
     "metadata": {},
     "output_type": "execute_result"
    },
    {
     "data": {
      "image/png": "[encoded data removed]",
      "text/plain": [
       "<Figure size 576x396 with 1 Axes>"
      ]
     },
     "metadata": {},
     "output_type": "display_data"
    }
   ],
   "source": [
    "from sklearn import metrics\n",
    "fpr1 , tpr1 , thresholds1 = metrics.roc_curve(y_test,classifier_pred,pos_label=0)\n",
    "print(fpr1,tpr1,thresholds1)\n",
    "plt.style.use('seaborn')\n",
    "plt.plot(fpr1,tpr1,linestyle='--',color = 'red')"
   ]
  },
  {
   "cell_type": "markdown",
   "id": "material-azerbaijan",
   "metadata": {},
   "source": [
    "# classifying using Logistic Regression and confusion matrix"
   ]
  },
  {
   "cell_type": "code",
   "execution_count": 17,
   "id": "provincial-zambia",
   "metadata": {},
   "outputs": [
    {
     "name": "stdout",
     "output_type": "stream",
     "text": [
      "[[13  0  0]\n",
      " [ 0 15  1]\n",
      " [ 0  0  9]]\n"
     ]
    },
    {
     "data": {
      "image/png": "[encoded data removed]",
      "text/plain": [
       "<Figure size 576x396 with 2 Axes>"
      ]
     },
     "metadata": {},
     "output_type": "display_data"
    }
   ],
   "source": [
    "logistic = LogisticRegression(max_iter = 1000).fit(x_train,y_train)\n",
    "logistic_pred = logistic.predict(x_test)\n",
    "cm = confusion_matrix(y_test,logistic_pred)\n",
    "print(cm)\n",
    "cm_display = ConfusionMatrixDisplay(cm).plot()"
   ]
  },
  {
   "cell_type": "markdown",
   "id": "killing-fraction",
   "metadata": {},
   "source": [
    "# roc curve"
   ]
  },
  {
   "cell_type": "code",
   "execution_count": 18,
   "id": "constant-fireplace",
   "metadata": {},
   "outputs": [
    {
     "name": "stdout",
     "output_type": "stream",
     "text": [
      "[0.  0.4 1.  1. ] [0. 0. 0. 1.] [3 2 1 0]\n"
     ]
    },
    {
     "data": {
      "text/plain": [
       "[<matplotlib.lines.Line2D at 0x33293e9b20>]"
      ]
     },
     "execution_count": 18,
     "metadata": {},
     "output_type": "execute_result"
    },
    {
     "data": {
      "image/png": "[encoded data removed]",
      "text/plain": [
       "<Figure size 576x396 with 1 Axes>"
      ]
     },
     "metadata": {},
     "output_type": "display_data"
    }
   ],
   "source": [
    "from sklearn import metrics\n",
    "fpr1 , tpr1 , thresholds1 = metrics.roc_curve(y_test,logistic_pred,pos_label=0)\n",
    "plt.style.use('seaborn')\n",
    "print(fpr1,tpr1,thresholds1)\n",
    "plt.plot(fpr1,tpr1,linestyle='--',color='blue')\n"
   ]
  },
  {
   "cell_type": "markdown",
   "id": "closed-florida",
   "metadata": {},
   "source": [
    "# Classification Report"
   ]
  },
  {
   "cell_type": "code",
   "execution_count": 30,
   "id": "quiet-spouse",
   "metadata": {},
   "outputs": [
    {
     "name": "stdout",
     "output_type": "stream",
     "text": [
      "              precision    recall  f1-score   support\n",
      "\n",
      "      setosa       1.00      1.00      1.00        13\n",
      "  versicolor       1.00      0.62      0.77        16\n",
      "   virginica       0.60      1.00      0.75         9\n",
      "\n",
      "    accuracy                           0.84        38\n",
      "   macro avg       0.87      0.88      0.84        38\n",
      "weighted avg       0.91      0.84      0.84        38\n",
      "\n",
      "\n",
      "\n",
      "\n",
      "\n",
      "\n",
      "\n",
      "              precision    recall  f1-score   support\n",
      "\n",
      "      setosa       1.00      1.00      1.00        13\n",
      "  versicolor       1.00      0.94      0.97        16\n",
      "   virginica       0.90      1.00      0.95         9\n",
      "\n",
      "    accuracy                           0.97        38\n",
      "   macro avg       0.97      0.98      0.97        38\n",
      "weighted avg       0.98      0.97      0.97        38\n",
      "\n"
     ]
    }
   ],
   "source": [
    "print(f\"{classification_report(y_test,classifier_pred,target_names = class_names)}\")\n",
    "print(\"\\n\" * 5)\n",
    "print(f\"{classification_report(y_test,logistic_pred,target_names = class_names)}\")"
   ]
  }
 ],
 "metadata": {
  "kernelspec": {
   "display_name": "Python 3",
   "language": "python",
   "name": "python3"
  },
  "language_info": {
   "codemirror_mode": {
    "name": "ipython",
    "version": 3
   },
   "file_extension": ".py",
   "mimetype": "text/x-python",
   "name": "python",
   "nbconvert_exporter": "python",
   "pygments_lexer": "ipython3",
   "version": "3.9.1"
  }
 },
 "nbformat": 4,
 "nbformat_minor": 5
}
